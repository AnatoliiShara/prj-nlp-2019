{
 "cells": [
  {
   "cell_type": "code",
   "execution_count": 28,
   "metadata": {
    "pycharm": {
     "is_executing": false,
     "name": "#%%import utils\n"
    }
   },
   "outputs": [],
   "source": [
    "import pandas as pd\n",
    "import numpy as np"
   ]
  },
  {
   "cell_type": "markdown",
   "metadata": {},
   "source": [
    "# Download CSV files"
   ]
  },
  {
   "cell_type": "code",
   "execution_count": 2,
   "metadata": {},
   "outputs": [],
   "source": [
    "df_learn = pd.read_csv('rozetka_learn.csv')\n",
    "df_test = pd.read_csv('rozetka_test.csv')"
   ]
  },
  {
   "cell_type": "markdown",
   "metadata": {},
   "source": [
    "# Look on the data"
   ]
  },
  {
   "cell_type": "code",
   "execution_count": 3,
   "metadata": {},
   "outputs": [
    {
     "name": "stdout",
     "output_type": "stream",
     "text": [
      "Learn set shape: (3800, 5)\n",
      "Test set shape: (1629, 5)\n"
     ]
    }
   ],
   "source": [
    "print(f\"Learn set shape: {df_learn.shape}\")\n",
    "print(f\"Test set shape: {df_test.shape}\")"
   ]
  },
  {
   "cell_type": "code",
   "execution_count": 6,
   "metadata": {},
   "outputs": [
    {
     "data": {
      "text/html": [
       "<div>\n",
       "<style scoped>\n",
       "    .dataframe tbody tr th:only-of-type {\n",
       "        vertical-align: middle;\n",
       "    }\n",
       "\n",
       "    .dataframe tbody tr th {\n",
       "        vertical-align: top;\n",
       "    }\n",
       "\n",
       "    .dataframe thead th {\n",
       "        text-align: right;\n",
       "    }\n",
       "</style>\n",
       "<table border=\"1\" class=\"dataframe\">\n",
       "  <thead>\n",
       "    <tr style=\"text-align: right;\">\n",
       "      <th></th>\n",
       "      <th>goods_code</th>\n",
       "      <th>stars</th>\n",
       "      <th>review</th>\n",
       "      <th>author</th>\n",
       "      <th>permalink</th>\n",
       "    </tr>\n",
       "  </thead>\n",
       "  <tbody>\n",
       "    <tr>\n",
       "      <th>0</th>\n",
       "      <td>13252316</td>\n",
       "      <td>1</td>\n",
       "      <td>Шановні! Де обіцяна знижка 5% при оплаті карто...</td>\n",
       "      <td>Андрей Дмитриев</td>\n",
       "      <td>#tab=comments;id=34200034</td>\n",
       "    </tr>\n",
       "    <tr>\n",
       "      <th>1</th>\n",
       "      <td>61270053</td>\n",
       "      <td>5</td>\n",
       "      <td>Дизайн зайде не кожному, но є аналог Xiaomi Re...</td>\n",
       "      <td>Виталий Александрович</td>\n",
       "      <td>#tab=comments;id=35938497</td>\n",
       "    </tr>\n",
       "    <tr>\n",
       "      <th>2</th>\n",
       "      <td>45499672</td>\n",
       "      <td>5</td>\n",
       "      <td>колір тільки синій чи чорний теж є?</td>\n",
       "      <td>Арт Лаз</td>\n",
       "      <td>#tab=comments;id=30229184</td>\n",
       "    </tr>\n",
       "    <tr>\n",
       "      <th>3</th>\n",
       "      <td>48116526</td>\n",
       "      <td>4</td>\n",
       "      <td>Швидкий та зручний телефон, має презентабельни...</td>\n",
       "      <td>Дима Лисунов</td>\n",
       "      <td>#tab=comments;id=36726816</td>\n",
       "    </tr>\n",
       "    <tr>\n",
       "      <th>4</th>\n",
       "      <td>55379058</td>\n",
       "      <td>5</td>\n",
       "      <td>Купувався мамі на подарунок. Дуже задоволена. ...</td>\n",
       "      <td>Микола</td>\n",
       "      <td>#tab=comments;id=38966133</td>\n",
       "    </tr>\n",
       "  </tbody>\n",
       "</table>\n",
       "</div>"
      ],
      "text/plain": [
       "   goods_code  stars                                             review  \\\n",
       "0    13252316      1  Шановні! Де обіцяна знижка 5% при оплаті карто...   \n",
       "1    61270053      5  Дизайн зайде не кожному, но є аналог Xiaomi Re...   \n",
       "2    45499672      5                колір тільки синій чи чорний теж є?   \n",
       "3    48116526      4  Швидкий та зручний телефон, має презентабельни...   \n",
       "4    55379058      5  Купувався мамі на подарунок. Дуже задоволена. ...   \n",
       "\n",
       "                  author                  permalink  \n",
       "0        Андрей Дмитриев  #tab=comments;id=34200034  \n",
       "1  Виталий Александрович  #tab=comments;id=35938497  \n",
       "2                Арт Лаз  #tab=comments;id=30229184  \n",
       "3           Дима Лисунов  #tab=comments;id=36726816  \n",
       "4                 Микола  #tab=comments;id=38966133  "
      ]
     },
     "execution_count": 6,
     "metadata": {},
     "output_type": "execute_result"
    }
   ],
   "source": [
    "df_learn.head()"
   ]
  },
  {
   "cell_type": "code",
   "execution_count": 9,
   "metadata": {},
   "outputs": [
    {
     "data": {
      "text/html": [
       "<div>\n",
       "<style scoped>\n",
       "    .dataframe tbody tr th:only-of-type {\n",
       "        vertical-align: middle;\n",
       "    }\n",
       "\n",
       "    .dataframe tbody tr th {\n",
       "        vertical-align: top;\n",
       "    }\n",
       "\n",
       "    .dataframe thead th {\n",
       "        text-align: right;\n",
       "    }\n",
       "</style>\n",
       "<table border=\"1\" class=\"dataframe\">\n",
       "  <thead>\n",
       "    <tr style=\"text-align: right;\">\n",
       "      <th></th>\n",
       "      <th>goods_code</th>\n",
       "      <th>review</th>\n",
       "      <th>author</th>\n",
       "      <th>permalink</th>\n",
       "    </tr>\n",
       "    <tr>\n",
       "      <th>stars</th>\n",
       "      <th></th>\n",
       "      <th></th>\n",
       "      <th></th>\n",
       "      <th></th>\n",
       "    </tr>\n",
       "  </thead>\n",
       "  <tbody>\n",
       "    <tr>\n",
       "      <th>1</th>\n",
       "      <td>173</td>\n",
       "      <td>173</td>\n",
       "      <td>173</td>\n",
       "      <td>173</td>\n",
       "    </tr>\n",
       "    <tr>\n",
       "      <th>2</th>\n",
       "      <td>122</td>\n",
       "      <td>122</td>\n",
       "      <td>122</td>\n",
       "      <td>122</td>\n",
       "    </tr>\n",
       "    <tr>\n",
       "      <th>3</th>\n",
       "      <td>222</td>\n",
       "      <td>222</td>\n",
       "      <td>222</td>\n",
       "      <td>222</td>\n",
       "    </tr>\n",
       "    <tr>\n",
       "      <th>4</th>\n",
       "      <td>746</td>\n",
       "      <td>746</td>\n",
       "      <td>746</td>\n",
       "      <td>746</td>\n",
       "    </tr>\n",
       "    <tr>\n",
       "      <th>5</th>\n",
       "      <td>2537</td>\n",
       "      <td>2537</td>\n",
       "      <td>2537</td>\n",
       "      <td>2537</td>\n",
       "    </tr>\n",
       "  </tbody>\n",
       "</table>\n",
       "</div>"
      ],
      "text/plain": [
       "       goods_code  review  author  permalink\n",
       "stars                                       \n",
       "1             173     173     173        173\n",
       "2             122     122     122        122\n",
       "3             222     222     222        222\n",
       "4             746     746     746        746\n",
       "5            2537    2537    2537       2537"
      ]
     },
     "execution_count": 9,
     "metadata": {},
     "output_type": "execute_result"
    }
   ],
   "source": [
    "df_learn.groupby('stars').count()"
   ]
  },
  {
   "cell_type": "code",
   "execution_count": 10,
   "metadata": {},
   "outputs": [
    {
     "data": {
      "text/html": [
       "<div>\n",
       "<style scoped>\n",
       "    .dataframe tbody tr th:only-of-type {\n",
       "        vertical-align: middle;\n",
       "    }\n",
       "\n",
       "    .dataframe tbody tr th {\n",
       "        vertical-align: top;\n",
       "    }\n",
       "\n",
       "    .dataframe thead th {\n",
       "        text-align: right;\n",
       "    }\n",
       "</style>\n",
       "<table border=\"1\" class=\"dataframe\">\n",
       "  <thead>\n",
       "    <tr style=\"text-align: right;\">\n",
       "      <th></th>\n",
       "      <th>goods_code</th>\n",
       "      <th>review</th>\n",
       "      <th>author</th>\n",
       "      <th>permalink</th>\n",
       "    </tr>\n",
       "    <tr>\n",
       "      <th>stars</th>\n",
       "      <th></th>\n",
       "      <th></th>\n",
       "      <th></th>\n",
       "      <th></th>\n",
       "    </tr>\n",
       "  </thead>\n",
       "  <tbody>\n",
       "    <tr>\n",
       "      <th>1</th>\n",
       "      <td>93</td>\n",
       "      <td>93</td>\n",
       "      <td>93</td>\n",
       "      <td>93</td>\n",
       "    </tr>\n",
       "    <tr>\n",
       "      <th>2</th>\n",
       "      <td>59</td>\n",
       "      <td>59</td>\n",
       "      <td>59</td>\n",
       "      <td>59</td>\n",
       "    </tr>\n",
       "    <tr>\n",
       "      <th>3</th>\n",
       "      <td>101</td>\n",
       "      <td>101</td>\n",
       "      <td>101</td>\n",
       "      <td>101</td>\n",
       "    </tr>\n",
       "    <tr>\n",
       "      <th>4</th>\n",
       "      <td>316</td>\n",
       "      <td>316</td>\n",
       "      <td>316</td>\n",
       "      <td>316</td>\n",
       "    </tr>\n",
       "    <tr>\n",
       "      <th>5</th>\n",
       "      <td>1060</td>\n",
       "      <td>1060</td>\n",
       "      <td>1060</td>\n",
       "      <td>1060</td>\n",
       "    </tr>\n",
       "  </tbody>\n",
       "</table>\n",
       "</div>"
      ],
      "text/plain": [
       "       goods_code  review  author  permalink\n",
       "stars                                       \n",
       "1              93      93      93         93\n",
       "2              59      59      59         59\n",
       "3             101     101     101        101\n",
       "4             316     316     316        316\n",
       "5            1060    1060    1060       1060"
      ]
     },
     "execution_count": 10,
     "metadata": {},
     "output_type": "execute_result"
    }
   ],
   "source": [
    "df_test.groupby('stars').count()"
   ]
  },
  {
   "cell_type": "markdown",
   "metadata": {},
   "source": [
    "# Sentiment analizer - baseline"
   ]
  },
  {
   "cell_type": "code",
   "execution_count": 30,
   "metadata": {},
   "outputs": [],
   "source": [
    "X_learn = df_learn['review'].values\n",
    "X_test = df_test['review'].values\n",
    "y_learn = df_learn['stars'].values\n",
    "y_test = df_test['stars'].values"
   ]
  },
  {
   "cell_type": "code",
   "execution_count": 31,
   "metadata": {},
   "outputs": [],
   "source": [
    "from sklearn.feature_extraction.text import TfidfVectorizer\n",
    "from sklearn.naive_bayes import BernoulliNB, MultinomialNB"
   ]
  },
  {
   "cell_type": "code",
   "execution_count": 34,
   "metadata": {},
   "outputs": [],
   "source": [
    "def classifier_nb_tfidf(X_learn, y_learn, X_test, y_test):\n",
    "    tfidf = TfidfVectorizer()\n",
    "    features_learn = tfidf.fit_transform(X_learn)\n",
    "    features_test = tfidf.transform(X_test)\n",
    "    print(f\"Dictionary size = {len(tfidf.vocabulary_)}\")\n",
    "    clf = BernoulliNB()\n",
    "    clf.fit(features_learn, y_learn)\n",
    "    y_predicted = clf.predict(features_test)\n",
    "    return y_predicted"
   ]
  },
  {
   "cell_type": "code",
   "execution_count": 37,
   "metadata": {},
   "outputs": [
    {
     "name": "stdout",
     "output_type": "stream",
     "text": [
      "Dictionary size = 18097\n",
      "[5 1 3 5 5 5 4 5 4 5 5 5 5 5 5 4 4 5 5 5 2 5 5 3 5 5 5 1 4 5 3 5 4 3 5 5 5\n",
      " 5 2 5 5 5 5 5 5 4 5 5 5 5 5 3 2 5 5 2 3 3 5 1 2 5 5 1 5 2 5 5 5 4 5 5 5 5\n",
      " 5 1 5 4 5 5 5 5 5 1 5 5 4 4 5 5 5 5 5 5 3 5 3 5 5 5 3 5 5 4 1 5 5 5 5 5 4\n",
      " 5 5 5 1 5 5 5 4 3 5 5 5 5 5 5 5 3 4 5 3 5 5 5 1 4 5 5 4 4 5 5 5 1 5 4 5 5\n",
      " 5 3 4 5 5 5 5 5 5 5 4 1 3 3 5 2 5 5 5 5 5 5 5 5 5 4 5 3 4 5 5 5 5 5 5 4 5\n",
      " 4 5 4 5 2 4 5 4 5 1 5 5 5 5 5 5 5 5 5 5 5 4 5 4 5 5 4 5 4 5 1 5 5 1 5 5 4\n",
      " 4 5 5 5 5 5 5 4 5 5 5 5 5 5 4 5 5 5 4 4 5 4 4 4 5 5 5 5 5 5 5 5 1 5 4 1 4\n",
      " 3 5 5 5 5 5 5 5 3 5 3 3 4 5 5 1 5 4 5 5 5 5 5 1 4 5 4 5 4 4 5 5 5 5 1 3 4\n",
      " 5 1 4 5 5 5 1 5 5 5 5 5 5 5 5 5 5 1 4 3 5 1 4 5 5 5 5 4 5 3 5 5 3 5 5 4 5\n",
      " 5 5 5 5 5 5 4 5 3 4 1 5 4 2 5 5 5 5 5 5 4 5 1 2 2 5 5 3 1 5 5 4 5 3 4 5 2\n",
      " 5 2 5 5 5 5 5 4 5 4 5 4 5 5 3 4 1 4 5 5 4 5 4 2 5 1 5 5 1 5 5 4 5 5 4 5 5\n",
      " 5 5 5 5 4 4 5 5 5 5 4 5 5 5 5 5 1 2 5 5 5 5 4 5 5 5 4 5 5 4 5 5 1 5 1 3 2\n",
      " 5 5 5 4 5 5 2 5 5 1 5 2 4 5 5 5 3 5 5 5 5 5 5 1 5 5 5 3 1 5 5 5 5 4 5 5 5\n",
      " 5 5 4 4 1 5 5 5 4 2 5 5 5 5 2 5 5 5 1 5 4 5 4 2 4 5 5 5 5 5 5 5 3 5 5 5 5\n",
      " 4 5 3 1 4 1 5 4 4 5 5 2 3 5 5 5 3 5 5 5 4 5 4 5 5 5 4 5 5 5 5 5 5 5 5 4 5\n",
      " 4 5 5 2 1 2 5 5 5 1 4 5 4 2 5 5 5 5 4 5 5 4 3 5 5 4 3 4 3 5 5 5 5 5 5 4 3\n",
      " 5 5 5 4 5 5 4 5 5 5 5 5 4 4 5 5 4 5 4 5 5 5 5 4 5 5 5 5 5 4 4 5 5 5 5 4 5\n",
      " 3 4 4 4 3 3 1 4 4 5 5 5 5 5 5 1 5 4 5 5 5 5 5 5 1 5 1 5 5 1 5 2 4 5 4 5 4\n",
      " 5 4 5 5 5 5 5 5 5 5 5 5 5 1 5 5 5 4 5 3 5 5 5 5 4 5 5 5 5 5 5 1 3 5 5 4 5\n",
      " 4 5 4 5 5 4 5 4 5 4 4 5 4 5 5 5 1 5 5 4 5 5 5 5 5 5 5 4 5 5 5 4 5 5 5 5 5\n",
      " 5 5 5 5 5 3 2 5 5 4 5 5 5 3 1 5 5 5 4 5 3 5 3 5 5 5 5 5 5 4 5 5 5 1 5 5 4\n",
      " 5 5 4 5 5 5 4 4 5 4 5 5 4 2 5 2 5 4 4 5 4 4 5 5 5 1 5 5 5 5 5 5 2 5 5 1 2\n",
      " 4 5 5 5 5 5 2 5 5 5 5 1 5 5 5 4 5 5 5 5 5 5 5 5 5 3 4 3 5 4 5 5 5 5 4 4 5\n",
      " 5 5 3 5 5 5 5 2 5 5 5 4 4 5 5 4 4 4 5 5 2 5 5 4 5 5 5 5 5 4 5 5 5 5 3 5 5\n",
      " 2 4 5 2 4 5 1 2 5 4 5 4 5 5 5 5 5 4 5 1 5 5 5 3 5 5 5 5 5 3 5 5 5 2 4 5 5\n",
      " 5 5 5 5 5 4 5 4 1 5 5 3 1 5 5 4 5 5 5 5 5 4 5 5 4 5 5 5 5 4 5 3 5 5 5 2 5\n",
      " 5 5 4 3 4 5 5 5 4 5 5 5 1 5 5 1 5 5 5 5 3 4 5 4 5 3 5 5 5 4 5 5 5 1 5 5 5\n",
      " 5]\n",
      "[5 5 5 5 5 5 4 5 5 5 5 5 5 5 5 5 5 5 5 5 4 5 5 5 4 5 5 5 5 5 4 5 5 3 5 5 4\n",
      " 5 5 5 5 5 5 5 5 5 5 5 5 5 5 5 4 5 5 5 5 5 4 5 5 5 5 5 5 5 5 5 5 5 5 5 5 5\n",
      " 5 5 5 4 4 5 5 5 5 5 5 5 5 5 4 5 5 5 5 5 5 5 5 5 5 5 5 5 5 5 5 5 5 5 5 5 5\n",
      " 5 5 5 5 5 5 5 5 5 5 5 5 5 5 5 5 5 5 5 5 5 5 5 5 5 5 5 5 5 5 5 5 5 5 5 5 5\n",
      " 5 5 5 5 5 5 5 5 5 5 5 5 5 5 5 5 5 5 5 5 4 5 5 5 5 5 5 5 5 5 5 5 5 4 5 5 5\n",
      " 5 5 4 4 4 5 5 5 5 5 5 5 5 5 5 5 5 5 5 5 5 5 5 4 4 5 5 5 5 5 5 5 5 5 5 5 4\n",
      " 5 5 5 5 5 5 5 5 4 5 5 5 5 5 5 5 2 5 5 5 5 4 4 5 5 5 5 5 5 5 5 5 5 5 5 5 5\n",
      " 5 4 5 5 5 5 5 5 5 5 5 5 5 5 5 5 5 5 5 5 5 5 5 5 5 5 5 5 5 5 5 3 5 5 5 5 5\n",
      " 5 5 5 5 5 5 5 5 5 5 4 5 5 5 5 5 5 5 5 4 5 5 5 5 5 5 5 5 5 4 5 5 3 5 5 5 5\n",
      " 5 5 5 5 5 5 5 5 5 5 5 5 5 5 5 5 5 5 5 5 5 5 5 4 5 5 5 5 4 5 5 5 5 5 5 5 5\n",
      " 5 5 5 5 5 5 5 5 5 4 5 5 5 5 5 5 5 5 5 5 5 5 5 5 5 5 5 5 4 5 5 5 5 5 5 5 5\n",
      " 5 5 5 5 5 5 5 5 5 5 5 5 5 5 5 5 5 5 5 4 5 5 5 5 5 5 5 5 5 5 5 5 5 5 5 5 4\n",
      " 5 5 5 5 4 3 5 5 5 5 5 5 5 5 5 5 5 5 5 5 5 5 5 5 5 5 5 4 5 5 5 4 4 5 5 5 5\n",
      " 5 5 5 5 4 5 5 5 5 5 5 5 5 4 5 5 5 5 5 5 5 5 5 4 5 5 5 4 5 5 5 5 4 5 5 5 5\n",
      " 5 5 5 5 5 5 5 5 5 5 5 5 5 5 5 5 5 5 5 5 5 5 5 5 5 5 5 5 5 5 5 5 5 5 5 5 5\n",
      " 5 5 5 5 5 5 5 5 4 5 5 5 5 5 5 5 5 4 5 5 5 5 5 5 5 5 5 5 3 5 5 5 5 5 5 5 5\n",
      " 5 5 5 5 5 5 5 5 5 5 5 5 5 5 5 5 5 5 5 5 5 5 5 4 5 5 5 5 5 5 4 5 5 5 5 5 5\n",
      " 4 5 5 5 5 5 5 5 5 5 5 5 5 4 5 5 5 5 5 5 5 4 5 5 5 5 4 5 5 5 5 5 5 5 5 5 5\n",
      " 5 5 5 5 5 5 5 5 5 5 5 5 5 5 5 5 5 5 5 5 5 5 5 5 5 5 5 5 5 5 5 4 5 5 5 5 5\n",
      " 5 5 5 5 5 5 5 5 5 5 5 5 4 5 5 5 5 5 5 5 5 5 5 5 5 5 5 4 5 5 5 5 4 5 5 5 5\n",
      " 5 5 5 5 5 4 5 5 5 5 5 5 5 5 4 5 4 5 5 5 4 5 5 5 5 5 5 5 5 5 5 5 5 4 5 5 5\n",
      " 5 5 5 3 5 5 5 4 4 5 5 4 5 5 5 5 5 5 5 5 5 5 5 4 5 5 5 5 5 5 5 5 5 5 5 5 5\n",
      " 5 5 5 5 5 5 5 5 5 4 5 4 5 5 5 5 5 5 5 5 5 5 5 5 5 5 5 5 5 4 5 5 5 5 5 5 5\n",
      " 5 5 5 5 5 5 5 5 5 5 5 5 5 5 5 5 5 5 5 5 5 5 5 5 5 5 5 5 5 5 5 5 5 5 5 5 4\n",
      " 2 5 5 5 5 5 5 5 5 5 5 4 5 5 5 5 5 5 5 5 5 5 5 5 5 5 5 5 5 5 5 5 5 5 5 5 5\n",
      " 5 5 5 5 5 5 5 5 5 5 5 5 5 4 5 5 5 5 5 5 5 5 5 5 5 5 5 5 4 5 5 5 5 5 5 4 5\n",
      " 5 5 5 3 5 5 5 5 5 5 5 5 5 5 5 5 5 5 5 5 5 5 5 5 5 5 3 5 4 5 5 5 3 5 5 5 5\n",
      " 5]\n"
     ]
    }
   ],
   "source": [
    "predictions = classifier_nb_tfidf(X_learn, y_learn, X_test, y_test)\n",
    "\n",
    "print(y_test[:1000])\n",
    "print(predictions[:1000])"
   ]
  },
  {
   "cell_type": "code",
   "execution_count": null,
   "metadata": {},
   "outputs": [],
   "source": []
  }
 ],
 "metadata": {
  "kernelspec": {
   "display_name": "nlp",
   "language": "python",
   "name": "nlp"
  },
  "language_info": {
   "codemirror_mode": {
    "name": "ipython",
    "version": 3
   },
   "file_extension": ".py",
   "mimetype": "text/x-python",
   "name": "python",
   "nbconvert_exporter": "python",
   "pygments_lexer": "ipython3",
   "version": "3.6.8"
  }
 },
 "nbformat": 4,
 "nbformat_minor": 1
}
