{
 "cells": [
  {
   "cell_type": "code",
   "execution_count": 3,
   "metadata": {},
   "outputs": [],
   "source": [
    "import re\n",
    "from tqdm import tqdm\n",
    "\n",
    "import spacy\n",
    "from spacy.tokens import Doc, Token\n",
    "from spacy import displacy"
   ]
  },
  {
   "cell_type": "code",
   "execution_count": 13,
   "metadata": {},
   "outputs": [],
   "source": [
    "import warnings\n",
    "warnings.filterwarnings('ignore')"
   ]
  },
  {
   "cell_type": "code",
   "execution_count": 49,
   "metadata": {},
   "outputs": [],
   "source": [
    "HYPHEN_PATTERN = re.compile(r'[a-zA-Z]+(-[a-zA-Z]+)+')\n",
    "\n",
    "def custom_is_alpha(t):\n",
    "    return t.is_alpha or re.match(HYPHEN_PATTERN, t.text)\n",
    "\n",
    "def find_first_word_index(doc):\n",
    "    i = 0\n",
    "    found = doc[i]._.is_alpha\n",
    "    while not found:\n",
    "        i += 1\n",
    "        found = custom_is_alpha(doc[i])\n",
    "    return i\n",
    "\n",
    "def find_last_word_index(doc):\n",
    "    i = len(doc)-1\n",
    "    found = custom_is_alpha(doc[i])\n",
    "    while not found:\n",
    "        i -= 1\n",
    "        found = custom_is_alpha(doc[i])\n",
    "    return i\n",
    "\n",
    "def is_first_word(t):\n",
    "    return True if t.i == t.doc._.first_word_ind else False\n",
    "\n",
    "def is_last_word(t):\n",
    "    return True if t.i == t.doc._.last_word_ind else False\n",
    "        \n",
    "\n",
    "Token.set_extension('is_alpha', getter=custom_is_alpha, force=True)\n",
    "Token.set_extension('is_first_word', getter=is_first_word, force=True)\n",
    "Token.set_extension('is_last_word', getter=is_last_word, force=True)\n",
    "Doc.set_extension('first_word_ind', getter=find_first_word_index, force=True)\n",
    "Doc.set_extension('last_word_ind', getter=find_last_word_index, force=True)"
   ]
  },
  {
   "cell_type": "code",
   "execution_count": 6,
   "metadata": {},
   "outputs": [],
   "source": [
    "def get_line(file_name):\n",
    "    with open(file_name, 'r') as f:\n",
    "        for line in f:\n",
    "            yield line.strip()"
   ]
  },
  {
   "cell_type": "code",
   "execution_count": 33,
   "metadata": {},
   "outputs": [],
   "source": [
    "headlines_file = '../../../tasks/02-structural-linguistics/examiner-headlines.txt'\n",
    "n_lines = sum(1 for _ in get_line(headlines_file))"
   ]
  },
  {
   "cell_type": "code",
   "execution_count": 51,
   "metadata": {},
   "outputs": [],
   "source": [
    "nlp = spacy.load('en_core_web_md', disable=['ner'])"
   ]
  },
  {
   "cell_type": "code",
   "execution_count": 52,
   "metadata": {},
   "outputs": [],
   "source": [
    "nlp.add_pipe(merge_hyphen_tokens)"
   ]
  },
  {
   "cell_type": "code",
   "execution_count": 53,
   "metadata": {},
   "outputs": [
    {
     "name": "stderr",
     "output_type": "stream",
     "text": [
      "100%|██████████| 5000/5000 [00:14<00:00, 357.13it/s]\n"
     ]
    }
   ],
   "source": [
    "headlines = get_line(headlines_file)\n",
    "out_file = 'formatted_headlines.txt'\n",
    "n_formatted = 0\n",
    "\n",
    "for doc in tqdm(nlp.pipe(headlines), total=n_lines):\n",
    "    headline = format_headline(doc)\n",
    "    write_to_file(out_file, headline)\n",
    "    \n",
    "    if doc.text != headline:\n",
    "        n_formatted += 1"
   ]
  },
  {
   "cell_type": "code",
   "execution_count": 50,
   "metadata": {},
   "outputs": [],
   "source": [
    "def merge_hyphen_tokens(doc):\n",
    "    inds = [m.span() for m in re.finditer(HYPHEN_PATTERN, doc.text)]\n",
    "    for start, end in inds:\n",
    "        doc.merge(start_idx=start, end_idx=end)\n",
    "    return doc"
   ]
  },
  {
   "cell_type": "code",
   "execution_count": 28,
   "metadata": {},
   "outputs": [],
   "source": [
    "def format_headline(doc):\n",
    "    headline = [t.text_with_ws.title() if upper_rules(t) else t.text_with_ws.lower() for t in doc]\n",
    "    return ''.join(headline)\n",
    "\n",
    "\n",
    "def upper_rules(token):\n",
    "    first_last_word  = token._.is_first_word or token._.is_last_word\n",
    "    subordinate_conj = (token.pos_ == 'ADP') and (token.dep_ == 'mark')\n",
    "    upper_pos        = token.pos_ in ['NOUN', 'PROPN', 'ADV', 'VERB', 'ADJ', 'PRON']\n",
    "    return first_last_word or subordinate_conj or upper_pos\n",
    "    "
   ]
  },
  {
   "cell_type": "code",
   "execution_count": 10,
   "metadata": {},
   "outputs": [],
   "source": [
    "def write_to_file(file_name, text):\n",
    "    with open(file_name, 'a') as f:\n",
    "        f.write('{}\\n'.format(text))"
   ]
  },
  {
   "cell_type": "code",
   "execution_count": 18,
   "metadata": {},
   "outputs": [
    {
     "name": "stdout",
     "output_type": "stream",
     "text": [
      "Tests passed\n"
     ]
    }
   ],
   "source": [
    "assert format_headline(nlp('Do as you want')) == 'Do As You Want'\n",
    "assert format_headline(nlp('How to use a Macbook as a table')) == 'How to Use a Macbook as a Table'\n",
    "# assert format_headline(nlp('headline about self-reflection boy')) == ''\n",
    "print('Tests passed')"
   ]
  },
  {
   "cell_type": "code",
   "execution_count": 19,
   "metadata": {},
   "outputs": [
    {
     "data": {
      "text/plain": [
       "\"'This' Headline Is about Self-Reflection Boy, but Not You!\""
      ]
     },
     "execution_count": 19,
     "metadata": {},
     "output_type": "execute_result"
    }
   ],
   "source": [
    "doc = nlp('\\'This\\' headline is about self-reflection boy, but not you!')\n",
    "regex_merge_token(doc, pattern)\n",
    "format_headline(doc)"
   ]
  },
  {
   "cell_type": "code",
   "execution_count": 20,
   "metadata": {},
   "outputs": [
    {
     "data": {
      "text/plain": [
       "'Orange-Tastic!'"
      ]
     },
     "execution_count": 20,
     "metadata": {},
     "output_type": "execute_result"
    }
   ],
   "source": [
    "format_headline(nlp('Orange-tastic!'))"
   ]
  },
  {
   "cell_type": "code",
   "execution_count": 22,
   "metadata": {},
   "outputs": [
    {
     "data": {
      "text/plain": [
       "'Orange-Tastic!'"
      ]
     },
     "execution_count": 22,
     "metadata": {},
     "output_type": "execute_result"
    }
   ],
   "source": [
    "doc = nlp('Orange-tastic!')\n",
    "regex_merge_token(doc, pattern)\n",
    "format_headline(doc)"
   ]
  },
  {
   "cell_type": "code",
   "execution_count": 48,
   "metadata": {},
   "outputs": [
    {
     "data": {
      "text/plain": [
       "4504"
      ]
     },
     "execution_count": 48,
     "metadata": {},
     "output_type": "execute_result"
    }
   ],
   "source": [
    "n_formatted"
   ]
  }
 ],
 "metadata": {
  "kernelspec": {
   "display_name": "prj-nlp-2019",
   "language": "python",
   "name": "prj-nlp-2019"
  },
  "language_info": {
   "codemirror_mode": {
    "name": "ipython",
    "version": 3
   },
   "file_extension": ".py",
   "mimetype": "text/x-python",
   "name": "python",
   "nbconvert_exporter": "python",
   "pygments_lexer": "ipython3",
   "version": "3.7.2"
  }
 },
 "nbformat": 4,
 "nbformat_minor": 2
}
