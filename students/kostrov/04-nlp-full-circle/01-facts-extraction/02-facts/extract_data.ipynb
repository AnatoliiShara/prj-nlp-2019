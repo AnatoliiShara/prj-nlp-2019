{
 "cells": [
  {
   "cell_type": "code",
   "execution_count": 1,
   "metadata": {},
   "outputs": [],
   "source": [
    "import re\n",
    "import spacy\n",
    "import requests\n",
    "import multiprocessing as mp\n",
    "from ast import literal_eval\n",
    "from bs4 import BeautifulSoup\n",
    "from unidecode import unidecode\n",
    "from pandas import pandas as pd"
   ]
  },
  {
   "cell_type": "code",
   "execution_count": 2,
   "metadata": {},
   "outputs": [],
   "source": [
    "nlp = spacy.load(\"en_core_web_lg\")"
   ]
  },
  {
   "cell_type": "code",
   "execution_count": 3,
   "metadata": {},
   "outputs": [],
   "source": [
    "df = pd.read_csv('../data/countries.tsv', names=['wiki', 'country', 'capitals'], sep='\\t', converters={'capitals': literal_eval}, index_col=[0])\n",
    "df.capitals = df.capitals.apply(lambda capitals: {unidecode(capital) for capital in capitals})\n",
    "df.capitals = df.capitals.apply(set)\n",
    "countries = set(df['country'].apply(unidecode))"
   ]
  },
  {
   "cell_type": "code",
   "execution_count": 4,
   "metadata": {},
   "outputs": [],
   "source": [
    "def extract_text(url):\n",
    "    html = requests.get(url).text\n",
    "    soup = BeautifulSoup(html, 'html.parser')\n",
    "\n",
    "    [s.extract() for s in soup.find_all(id='toc')]\n",
    "    [s.extract() for s in soup.find_all(['table', 'script', 'sup'])]\n",
    "    [s.extract() for s in soup.find_all(class_=['portal', 'navigation-not-searchable', 'reflist', 'noprint'])]\n",
    "    text = soup.find(class_='mw-parser-output').get_text()\n",
    "    text = re.sub(r' \\([^)]*\\)', '', text).strip()\n",
    "\n",
    "    # articles with no mention of the capital in the article body\n",
    "    no_capital = any(capital not in text for capital in df.at[url, 'capitals'])\n",
    "\n",
    "    return '\\n'.join(text.split('\\n')[:15]), no_capital"
   ]
  },
  {
   "cell_type": "code",
   "execution_count": 5,
   "metadata": {},
   "outputs": [],
   "source": [
    "def concat_compound(token):\n",
    "    res = []\n",
    "    for child in token.children:\n",
    "        if child.dep_ == 'compound':\n",
    "            res.append(unidecode(child.text))\n",
    "            res.extend(concat_compound(child))\n",
    "    return res"
   ]
  },
  {
   "cell_type": "code",
   "execution_count": 6,
   "metadata": {},
   "outputs": [],
   "source": [
    "def bfs(root):\n",
    "  queue = list(root.children)\n",
    "  while len(queue):\n",
    "    head = queue.pop(0)\n",
    "    if head.pos_ == 'PROPN':\n",
    "      compound = concat_compound(head)\n",
    "      compound.insert(0, unidecode(head.text))\n",
    "      capital = ' '.join(reversed(compound))\n",
    "      if capital in countries or len(set.intersection(countries, set(compound))):\n",
    "        return None\n",
    "      return capital\n",
    "    queue.extend(list(head.children))"
   ]
  },
  {
   "cell_type": "code",
   "execution_count": 7,
   "metadata": {},
   "outputs": [],
   "source": [
    "def get_parent_verb(token):\n",
    "    if token.pos_ != 'VERB':\n",
    "        if token.dep_ == 'ROOT':\n",
    "            return None\n",
    "        return get_parent_verb(token.head)\n",
    "    return token"
   ]
  },
  {
   "cell_type": "code",
   "execution_count": 8,
   "metadata": {},
   "outputs": [],
   "source": [
    "def extract_capitals(url):\n",
    "#     print(url)\n",
    "    text, no_capital = extract_text(url)\n",
    "    doc = nlp(text, disable=['ner', 'textcat'])\n",
    "\n",
    "    result = set()\n",
    "    for sentence in doc.sents:\n",
    "        if 'capital' in sentence.text:\n",
    "            for token in sentence:\n",
    "                if token.text == 'capital':\n",
    "                    verb = get_parent_verb(token)\n",
    "                    if verb:\n",
    "                        propn = bfs(verb)\n",
    "                        if propn:\n",
    "                            result.add(propn)\n",
    "                            break\n",
    "\n",
    "    return url, result, no_capital, get_jaccard_similarily(url, (df.at[url, 'capitals'], result))"
   ]
  },
  {
   "cell_type": "code",
   "execution_count": 9,
   "metadata": {},
   "outputs": [],
   "source": [
    "def addToDataFrame(data):\n",
    "    url, result, no_capital, similarity = data\n",
    "    df.at[url, 'capitals_found'] = result\n",
    "    df.at[url, 'no_capital'] = no_capital\n",
    "    df.at[url, 'similarity'] = similarity"
   ]
  },
  {
   "cell_type": "code",
   "execution_count": 10,
   "metadata": {},
   "outputs": [],
   "source": [
    "def get_jaccard_similarily(url, data):\n",
    "    capitals, capitals_found = data    \n",
    "    return len(set.intersection(capitals, capitals_found)) / len(set.union(capitals, capitals_found))"
   ]
  },
  {
   "cell_type": "code",
   "execution_count": 11,
   "metadata": {},
   "outputs": [],
   "source": [
    "def get_df_jaccard_similarily(dataframe):\n",
    "    df = dataframe.copy()\n",
    "    df['similarity'] = df[['capitals', 'capitals_found']].apply(lambda x: get_jaccard_similarily(x.name, x), axis=1)\n",
    "    return df['similarity'].mean()"
   ]
  },
  {
   "cell_type": "code",
   "execution_count": 12,
   "metadata": {},
   "outputs": [],
   "source": [
    "def process():\n",
    "    pool = mp.Pool()\n",
    "\n",
    "    for idx in df.index:\n",
    "        pool.apply_async(extract_capitals, args=[idx], callback=addToDataFrame)\n",
    "\n",
    "    pool.close()\n",
    "    pool.join()\n",
    "\n",
    "    return df['similarity'].mean()"
   ]
  },
  {
   "cell_type": "code",
   "execution_count": 13,
   "metadata": {},
   "outputs": [
    {
     "data": {
      "text/plain": [
       "0.6478696741854636"
      ]
     },
     "execution_count": 13,
     "metadata": {},
     "output_type": "execute_result"
    }
   ],
   "source": [
    "process()"
   ]
  },
  {
   "cell_type": "code",
   "execution_count": 14,
   "metadata": {},
   "outputs": [
    {
     "data": {
      "text/plain": [
       "0.66005291005291"
      ]
     },
     "execution_count": 14,
     "metadata": {},
     "output_type": "execute_result"
    }
   ],
   "source": [
    "#similarity for countries with countries without capitals in body text filtered out\n",
    "get_df_jaccard_similarily(df[df['no_capital'] == False])"
   ]
  },
  {
   "cell_type": "code",
   "execution_count": 15,
   "metadata": {},
   "outputs": [
    {
     "data": {
      "text/plain": [
       "0.6805555555555556"
      ]
     },
     "execution_count": 15,
     "metadata": {},
     "output_type": "execute_result"
    }
   ],
   "source": [
    "#similarity for countries without capitals in body text and capitals amount greater than 2\n",
    "get_df_jaccard_similarily(df[(df['no_capital'] == False) & (df['capitals'].map(len) == 1)])"
   ]
  },
  {
   "cell_type": "code",
   "execution_count": 16,
   "metadata": {},
   "outputs": [
    {
     "data": {
      "text/plain": [
       "0.9195402298850575"
      ]
     },
     "execution_count": 16,
     "metadata": {},
     "output_type": "execute_result"
    }
   ],
   "source": [
    "# similarity for countries, where number of capitals equals number of found capitals\n",
    "get_df_jaccard_similarily(df[df['capitals_found'].map(len) == df['capitals'].map(len)])"
   ]
  },
  {
   "cell_type": "code",
   "execution_count": 17,
   "metadata": {},
   "outputs": [
    {
     "data": {
      "text/plain": [
       "0.06766917293233082"
      ]
     },
     "execution_count": 17,
     "metadata": {},
     "output_type": "execute_result"
    }
   ],
   "source": [
    "# share of countries with redundant capitals found\n",
    "len(df[df['capitals_found'].map(len) > df['capitals'].map(len)]) / len(df)"
   ]
  },
  {
   "cell_type": "code",
   "execution_count": 18,
   "metadata": {},
   "outputs": [
    {
     "data": {
      "text/plain": [
       "0.03007518796992481"
      ]
     },
     "execution_count": 18,
     "metadata": {},
     "output_type": "execute_result"
    }
   ],
   "source": [
    "# share of countries with with not all capitals found (countries without found capitals are not considered)\n",
    "len(df[(df['capitals_found'].map(len) < df['capitals'].map(len)) & (df['capitals_found'].map(len) > 0)]) / len(df)"
   ]
  },
  {
   "cell_type": "code",
   "execution_count": 19,
   "metadata": {},
   "outputs": [
    {
     "data": {
      "text/plain": [
       "0.24812030075187969"
      ]
     },
     "execution_count": 19,
     "metadata": {},
     "output_type": "execute_result"
    }
   ],
   "source": [
    "# share of countries without a single capital found\n",
    "len(df[df['capitals_found'].map(len) == 0]) / len(df)"
   ]
  },
  {
   "cell_type": "code",
   "execution_count": 20,
   "metadata": {},
   "outputs": [
    {
     "data": {
      "text/html": [
       "<div>\n",
       "<style scoped>\n",
       "    .dataframe tbody tr th:only-of-type {\n",
       "        vertical-align: middle;\n",
       "    }\n",
       "\n",
       "    .dataframe tbody tr th {\n",
       "        vertical-align: top;\n",
       "    }\n",
       "\n",
       "    .dataframe thead th {\n",
       "        text-align: right;\n",
       "    }\n",
       "</style>\n",
       "<table border=\"1\" class=\"dataframe\">\n",
       "  <thead>\n",
       "    <tr style=\"text-align: right;\">\n",
       "      <th></th>\n",
       "      <th>country</th>\n",
       "      <th>capitals</th>\n",
       "      <th>capitals_found</th>\n",
       "      <th>no_capital</th>\n",
       "      <th>similarity</th>\n",
       "    </tr>\n",
       "    <tr>\n",
       "      <th>wiki</th>\n",
       "      <th></th>\n",
       "      <th></th>\n",
       "      <th></th>\n",
       "      <th></th>\n",
       "      <th></th>\n",
       "    </tr>\n",
       "  </thead>\n",
       "  <tbody>\n",
       "    <tr>\n",
       "      <th>http://en.wikipedia.org/wiki/Egypt</th>\n",
       "      <td>Egypt</td>\n",
       "      <td>{Cairo}</td>\n",
       "      <td>{}</td>\n",
       "      <td>False</td>\n",
       "      <td>0.0</td>\n",
       "    </tr>\n",
       "    <tr>\n",
       "      <th>http://en.wikipedia.org/wiki/Afghanistan</th>\n",
       "      <td>Afghanistan</td>\n",
       "      <td>{Kabul}</td>\n",
       "      <td>{Kabul}</td>\n",
       "      <td>False</td>\n",
       "      <td>1.0</td>\n",
       "    </tr>\n",
       "    <tr>\n",
       "      <th>http://en.wikipedia.org/wiki/Algeria</th>\n",
       "      <td>Algeria</td>\n",
       "      <td>{Algiers}</td>\n",
       "      <td>{Algiers}</td>\n",
       "      <td>False</td>\n",
       "      <td>1.0</td>\n",
       "    </tr>\n",
       "    <tr>\n",
       "      <th>http://en.wikipedia.org/wiki/Angola</th>\n",
       "      <td>Angola</td>\n",
       "      <td>{Luanda}</td>\n",
       "      <td>Luanda</td>\n",
       "      <td>False</td>\n",
       "      <td>1.0</td>\n",
       "    </tr>\n",
       "    <tr>\n",
       "      <th>http://en.wikipedia.org/wiki/Germany</th>\n",
       "      <td>Germany</td>\n",
       "      <td>{Berlin}</td>\n",
       "      <td>{Berlin}</td>\n",
       "      <td>False</td>\n",
       "      <td>1.0</td>\n",
       "    </tr>\n",
       "  </tbody>\n",
       "</table>\n",
       "</div>"
      ],
      "text/plain": [
       "                                              country   capitals  \\\n",
       "wiki                                                               \n",
       "http://en.wikipedia.org/wiki/Egypt              Egypt    {Cairo}   \n",
       "http://en.wikipedia.org/wiki/Afghanistan  Afghanistan    {Kabul}   \n",
       "http://en.wikipedia.org/wiki/Algeria          Algeria  {Algiers}   \n",
       "http://en.wikipedia.org/wiki/Angola            Angola   {Luanda}   \n",
       "http://en.wikipedia.org/wiki/Germany          Germany   {Berlin}   \n",
       "\n",
       "                                         capitals_found no_capital  similarity  \n",
       "wiki                                                                            \n",
       "http://en.wikipedia.org/wiki/Egypt                   {}      False         0.0  \n",
       "http://en.wikipedia.org/wiki/Afghanistan        {Kabul}      False         1.0  \n",
       "http://en.wikipedia.org/wiki/Algeria          {Algiers}      False         1.0  \n",
       "http://en.wikipedia.org/wiki/Angola              Luanda      False         1.0  \n",
       "http://en.wikipedia.org/wiki/Germany           {Berlin}      False         1.0  "
      ]
     },
     "execution_count": 20,
     "metadata": {},
     "output_type": "execute_result"
    }
   ],
   "source": [
    "df.head()"
   ]
  }
 ],
 "metadata": {
  "kernelspec": {
   "display_name": "Python 3",
   "language": "python",
   "name": "python3"
  },
  "language_info": {
   "codemirror_mode": {
    "name": "ipython",
    "version": 3
   },
   "file_extension": ".py",
   "mimetype": "text/x-python",
   "name": "python",
   "nbconvert_exporter": "python",
   "pygments_lexer": "ipython3",
   "version": "3.6.7"
  }
 },
 "nbformat": 4,
 "nbformat_minor": 2
}
