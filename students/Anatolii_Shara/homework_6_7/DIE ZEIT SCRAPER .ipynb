{
 "cells": [
  {
   "cell_type": "code",
   "execution_count": 17,
   "metadata": {
    "scrolled": true
   },
   "outputs": [
    {
     "name": "stdout",
     "output_type": "stream",
     "text": [
      "B. Stellerin\n",
      "Und wieso war die Abstimmung eine \"Farce\",obwohl sie den Wille einer deutlichen Mehrheit der Bewohner der Krim Ausdruck verleiht?\n",
      "Schon 1991, 1992 und 1994 haben die Bewohner der Krim versucht, sich von der Ukraine abzuspalten und wieder zu Russland zu gehören. Völlig ohne Putin übrigens.\n",
      "Wer das Ergebnis des Referendums ablehnt wie die USA und ihre EU-Vasallen, verrät m. E. damit nur, was er vom Selbstbestimmungsrecht der Völker hält.\n",
      "====================\n",
      "Rahus\n",
      "Das Referendum war eine Farce, die ...... Argumente sind hundert Mal genannt worden (Art der Durchführung, Völkerrecht). Lesen Sie mal die Berichterstattung der letzten Tage.\n",
      "====================\n",
      "Parviflorum\n",
      "Es ist erstaunlich,mit welch argumentloser Sicherheit man ein Referendum abtun kann. Bei einem knappen Ergebnis hätte ich das noch verstanden. \n",
      "Doch dies Ergebnis würde eigentlich ziemlich viele und gute Argumente brauchen. Wenn es denn um Vernunft ginge.\n",
      "====================\n",
      "Veräntergung\n",
      "DDR ErgebnisseIch glaube nun mal nicht, dass die Ergebnisse ungefälscht sind.\n",
      "====================\n",
      "Veräntergung\n",
      "Putin kommt auch noch dran\" Heute aber strebt die Bevölkerung vor allem nach persönlichem Wohlstand\"\n",
      "Es braucht nur einen Auslöser und die russische Bürgerrechtsbewegung lässt sich millionenfach nicht aufhalten. Sie würden sich gegen Putin als Sündenbock formieren, und in jedem anderen Land , wo die Wirtschaft zusammenbräche, würde sich allein ideeller Widerstand bilden (zB gegen Kapitalismus). Putin hat einen Weg eingeschlagen, der ihn kurze Zeit auf Wolke sieben bringt und später hat er sich selbst abgesägt.\n",
      "Wenn die Sanktionen kommen, wird es weitere Verschärfung der wirtschaftlichen Probleme in Russland geben (das Volk kriegt zu wenig ab, die Oligarchen sind nicht das Volk).\n",
      "====================\n",
      "Martta\n",
      "Da stimme ich absolut zu........ Putin's Politik befördert das Land zurück in die alte Zeiten, wo Menschen recht wenig hatten und nur die politische Spitze und deren Angehörigen sich Wohlstand leisten konnten.\n",
      "Die Sanktionen, die EU und USA gegen einige ausgewählte Vertreter des Landes verhängt hat, beeindrucken die Herren natürlich wenig. Allerdings stellt sich die Frage, ob Herr Putin und seine Berater bereit sind sich mit der LADA kutschieren zu lassen statt Maybach oder sonstigen Luxuskarossen aus dem Westen und statt teuren Smartphones und Pads mit... ja womit eigentlich?.... Wie würden denn die ganzen \"Freundinnen\" von Oligarchen und Politikern aussehen ohne teure Marken auf dem Leib?.... Wird dann statt im Champagnerwein im Krim-Sekt geduscht?....\n",
      "====================\n",
      "clear_conscience\n",
      "92% der Bayern würden Seehofer zum König Horst I. krönen.... wäre das dann auch ein Argument?\n",
      "====================\n",
      "DerKosmopolit\n",
      "Argumentedarf nur derjenige machen, der die Macht hat. Das Referendum Hawaii zu einem US Staat zu assimilieren war genauso illegal wie die Krim. Was will man tun? Russland will es, Krim wird sowieso NIE zur EU gehoeren, Ukraine mag die Krimer nicht.\n",
      "Die Krim ist an Russland verloren. Basta.\n",
      "====================\n"
     ]
    }
   ],
   "source": [
    "import bs4 as bs\n",
    "import urllib.request \n",
    "import requests\n",
    "from lxml import html\n",
    "from urllib.request import urlopen\n",
    "\n",
    "sauce = urllib.request.urlopen('https://www.zeit.de/politik/ausland/2014-03/Krim-Russland-Ukraine-Westen-Kommentar').read()\n",
    "soup = bs.BeautifulSoup(sauce,'lxml')\n",
    "for paragraph in soup.find_all('article', {\"class\": \"comment\"}):\n",
    "    author = paragraph.find_all('div', {'class': 'comment-meta__name'})[0]\n",
    "    print(author.text.strip())\n",
    "    comment =  paragraph.find_all('div', {'class': 'comment__body'})[0]\n",
    "    print(comment.text.strip())\n",
    "    print('='*20)"
   ]
  },
  {
   "cell_type": "code",
   "execution_count": null,
   "metadata": {},
   "outputs": [],
   "source": []
  }
 ],
 "metadata": {
  "kernelspec": {
   "display_name": "Python 3",
   "language": "python",
   "name": "python3"
  },
  "language_info": {
   "codemirror_mode": {
    "name": "ipython",
    "version": 3
   },
   "file_extension": ".py",
   "mimetype": "text/x-python",
   "name": "python",
   "nbconvert_exporter": "python",
   "pygments_lexer": "ipython3",
   "version": "3.6.7"
  }
 },
 "nbformat": 4,
 "nbformat_minor": 2
}
